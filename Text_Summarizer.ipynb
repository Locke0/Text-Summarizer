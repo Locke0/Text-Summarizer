{
  "nbformat": 4,
  "nbformat_minor": 0,
  "metadata": {
    "colab": {
      "name": "Text_Summarizer.ipynb",
      "provenance": [],
      "toc_visible": true,
      "mount_file_id": "1_02h2_9URykY08tobIfD1rxfK3cLbwhU",
      "authorship_tag": "ABX9TyPCskutr8+Y5oRmIB4OUvxP",
      "include_colab_link": true
    },
    "kernelspec": {
      "name": "python3",
      "display_name": "Python 3"
    },
    "language_info": {
      "name": "python"
    }
  },
  "cells": [
    {
      "cell_type": "markdown",
      "metadata": {
        "id": "view-in-github",
        "colab_type": "text"
      },
      "source": [
        "<a href=\"https://colab.research.google.com/github/Locke0/Text-Summarizer/blob/main/Text_Summarizer.ipynb\" target=\"_parent\"><img src=\"https://colab.research.google.com/assets/colab-badge.svg\" alt=\"Open In Colab\"/></a>"
      ]
    },
    {
      "cell_type": "code",
      "metadata": {
        "id": "GHSGdGvZjOAU"
      },
      "source": [
        "#imports\n",
        "from nltk.corpus import stopwords\n",
        "from nltk.cluster.util import cosine_distance\n",
        "import numpy as np\n",
        "import networkx as nx\n",
        "# loading data\n",
        "import requests\n"
      ],
      "execution_count": 4,
      "outputs": []
    },
    {
      "cell_type": "markdown",
      "metadata": {
        "id": "PUR9_YJEmxQp"
      },
      "source": [
        "#Helpful Links\n",
        "\n",
        "https://www.analyticsvidhya.com/blog/2019/06/comprehensive-guide-text-summarization-using-deep-learning-python/\n",
        "\n",
        "https://towardsdatascience.com/understand-text-summarization-and-create-your-own-summarizer-in-python-b26a9f09fc70"
      ]
    },
    {
      "cell_type": "markdown",
      "metadata": {
        "id": "9r84A_tknMLU"
      },
      "source": [
        "# Data Processing\n"
      ]
    },
    {
      "cell_type": "markdown",
      "metadata": {
        "id": "ASiUzvt2sAhl"
      },
      "source": [
        "## Loading data"
      ]
    },
    {
      "cell_type": "code",
      "metadata": {
        "id": "gPxRhijwmr8K"
      },
      "source": [
        "# text: https://www.gutenberg.org/cache/epub/21077/pg21077.txt\n",
        "# tutorial: https://www.youtube.com/watch?v=mKP7ChzJBqg\n",
        "\n",
        "\n",
        "# loading books\n",
        "\n",
        "result = requests.get('https://www.gutenberg.org/cache/epub/21077/pg21077.txt')\n",
        "text = result.text\n",
        "\n"
      ],
      "execution_count": 23,
      "outputs": []
    },
    {
      "cell_type": "markdown",
      "metadata": {
        "id": "V42EL6EwsfWp"
      },
      "source": [
        "##Generate clean sentences"
      ]
    },
    {
      "cell_type": "code",
      "metadata": {
        "id": "Lc3kcsqgrY6_"
      },
      "source": [
        "def read_article(text):\n",
        "  article = text.split(\". \")\n",
        "  sentences = []\n",
        "  for sentence in article:\n",
        "    print(sentence)\n",
        "    #deleting any character that IS NOT a-z OR A-Z\n",
        "    sentences.append(sentence.replace(\"[^a-zA-Z]\", \" \").split(\" \"))\n",
        "    sentences.pop()    \n",
        "  return sentences\n",
        "\n",
        "\n",
        "# def read_book(file_name):\n",
        "  #   file = open(file_name, \"r\")\n",
        "  #   filedata = file.readlines()\n",
        "  #   article = filedata[0].split(\". \")\n",
        "  #   sentences = []\n",
        "  #  for sentence in article:\n",
        "  #    print(sentence)\n",
        "  #    sentences.append(sentence.replace(\"[^a-zA-Z]\", \" \").split(\" \"))\n",
        "  #    sentences.pop()  \n",
        "    \n",
        "    # return sentences"
      ],
      "execution_count": 22,
      "outputs": []
    },
    {
      "cell_type": "markdown",
      "metadata": {
        "id": "joZpfMjctx6A"
      },
      "source": [
        "##Similarity matrix"
      ]
    },
    {
      "cell_type": "code",
      "metadata": {
        "id": "Db-3tN-Ntptd"
      },
      "source": [
        ""
      ],
      "execution_count": null,
      "outputs": []
    }
  ]
}